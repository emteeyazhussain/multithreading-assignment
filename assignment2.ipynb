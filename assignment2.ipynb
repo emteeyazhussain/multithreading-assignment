{
 "cells": [
  {
   "cell_type": "code",
   "execution_count": 2,
   "metadata": {},
   "outputs": [
    {
     "name": "stdout",
     "output_type": "stream",
     "text": [
      "the suqare  0 is  0\n",
      "the suqare  1 is  1\n",
      "the suqare  2 is  4\n",
      "the suqare  3 is  9\n",
      "the suqare  4 is  16\n",
      "the suqare  5 is  25\n",
      "the suqare  6 is  36\n",
      "the suqare  7 is  49\n",
      "the suqare  8 is  64\n",
      "the suqare  9 is  81\n"
     ]
    }
   ],
   "source": [
    "# Q4\n",
    "import threading\n",
    "\n",
    "def square(id):\n",
    "\n",
    "   \n",
    "     print(\"the suqare  %d is \" % (id) , id * id )\n",
    "\n",
    "\n",
    "thread = [threading.Thread(target=square, args=(i,)) for i in range(10)]\n",
    "for t in thread:\n",
    "   t.start()\n",
    " "
   ]
  },
  {
   "cell_type": "code",
   "execution_count": 3,
   "metadata": {},
   "outputs": [
    {
     "name": "stdout",
     "output_type": "stream",
     "text": [
      "the cube  0 is  0\n",
      "the cube  1 is  1\n",
      "the cube  2 is  8\n",
      "the cube  3 is  27\n",
      "the cube  4 is  64\n",
      "the cube  5 is  125\n",
      "the cube  6 is  216\n",
      "the cube  7 is  343\n",
      "the cube  8 is  512\n",
      "the cube  9 is  729\n"
     ]
    }
   ],
   "source": [
    "import threading\n",
    "\n",
    "def square(id):\n",
    "\n",
    "   \n",
    "     print(\"the cube  %d is \" % (id) , id * id * id )\n",
    "\n",
    "\n",
    "thread = [threading.Thread(target=square, args=(i,)) for i in range(10)]\n",
    "for t in thread:\n",
    "   t.start()"
   ]
  },
  {
   "cell_type": "code",
   "execution_count": 6,
   "metadata": {},
   "outputs": [],
   "source": [
    "# Q1.\n",
    "\n",
    "# Multithreading in Python refers to a programming technique that enables multiple threads of execution to run concurrently\n",
    "# within a single process. Each thread can perform a different task or work on the same task simultaneously, thus achieving \n",
    "# parallelism and improving the program's performance.\n",
    "\n",
    "# In Python, we can write programs that can do many things at the same time, just like we can play with many toys at the\n",
    "# same time. This is called \"multithreading\".\n",
    "\n",
    "# For example, if we have a program that needs to download a large file from the internet, we can use multithreading\n",
    "# to make the program download the file faster. \n",
    "# One thread can download the first part of the file, while another thread can download the second part at the same time, \n",
    "# and so on.\n",
    "\n",
    "# The module that helps us to use multithreading in Python is called \"threading\". We can use this module to create and\n",
    "# manage threads, and also to make sure that threads don't interfere with each other when they are working on the same\n",
    "# thing.\n",
    "\n",
    "# So, multithreading is a way to make our Python programs do things faster by doing many things at the same time, and\n",
    "# the \"threading\" module is the tool we use to do this."
   ]
  },
  {
   "cell_type": "code",
   "execution_count": 7,
   "metadata": {},
   "outputs": [],
   "source": [
    "# Q2.\n",
    "# The threading module in Python is used to create, manage, and control threads in a program. It provides a simple and\n",
    "# efficient way to achieve concurrency and parallelism, which can lead to faster and more efficient execution of the program.\n",
    "\n",
    "# Here are the explanations of the functions you mentioned:\n",
    "\n",
    "# activeCount(): This function returns the number of Thread objects that are active in the current program. An active thread\n",
    "# is a thread that has been started and has not yet finished or been terminated.\n",
    "\n",
    "# currentThread(): This function returns a Thread object representing the current thread of execution. The Thread object can \n",
    "# be used to identify and control the behavior of the current thread.\n",
    "\n",
    "# enumerate(): This function returns a list of all the Thread objects that are currently active in the program. This can be \n",
    "# useful for debugging or for obtaining information about the current state of the program's threads.\n",
    "\n",
    "# Overall, the threading module is an essential tool for any program that needs to perform concurrent or parallel tasks, and\n",
    "# these functions are just a few examples of the many capabilities it provides.\n",
    "\n",
    "\n",
    "\n",
    "\n",
    "\n"
   ]
  },
  {
   "cell_type": "code",
   "execution_count": 8,
   "metadata": {},
   "outputs": [],
   "source": [
    "# # Q3.Here are the explanations of some of the commonly used functions in multithreading:\n",
    "\n",
    "# run(): This is a method defined in the Thread class that is called when a new thread is started. It contains the code that\n",
    "# the thread will execute. You can define your own run() method that will be executed when the thread is started.\n",
    "\n",
    "# start(): This method is used to start a new thread. When you call the start() method, a new thread is created and the run() \n",
    "# method of that thread is executed. You can only call the start() method once on a thread. If you try to call it again, it will raise an exception.\n",
    "\n",
    "# join(): This method is used to wait for a thread to finish its execution. When you call the join() method on a thread,\n",
    "# the current thread is blocked until the target thread finishes its execution. This is useful when you want to make sure that a thread has finished before you continue executing the main thread.\n",
    "\n",
    "# isAlive(): This method is used to check if a thread is still running or has finished its execution. It returns True if\n",
    "# the thread is still running and False if the thread has finished. This is useful when you want to check if a thread has \n",
    "# finished before calling the join() method.\n",
    "\n",
    "\n",
    "\n"
   ]
  },
  {
   "cell_type": "code",
   "execution_count": 9,
   "metadata": {},
   "outputs": [],
   "source": [
    "# Q5.Multithreading has both advantages and disadvantages. Here are some of them:\n",
    "\n",
    "# Advantages of multithreading:\n",
    "\n",
    "# Increased performance: Multithreading allows multiple threads to execute concurrently, which can improve the overall\n",
    "# performance of an application. This is especially useful for applications that have CPU-bound or I/O-bound tasks.\n",
    "\n",
    "# Better resource utilization: Multithreading allows multiple threads to use system resources such as CPU and memory more\n",
    "# efficiently. This results in better utilization of resources and faster completion of tasks.\n",
    "\n",
    "# Enhanced responsiveness: Multithreading can make an application more responsive, as it allows the application to continue\n",
    "# processing user input while other tasks are being executed in the background.\n",
    "\n",
    "# Simplified program design: Multithreading can simplify program design by allowing complex tasks to be broken down into\n",
    "# smaller, more manageable sub-tasks that can be executed concurrently.\n",
    "\n",
    "# Improved scalability: Multithreading can improve the scalability of an application, as it allows the application to \n",
    "# handle multiple requests or users concurrently.\n",
    "\n",
    "# Disadvantages of multithreading:\n",
    "\n",
    "# Increased complexity: Multithreaded programs can be more complex to design, implement, and debug compared to single-threaded\n",
    "# programs.\n",
    "\n",
    "# Synchronization issues: Multithreading can lead to synchronization issues such as race conditions and deadlocks.\n",
    "# These issues can be difficult to detect and debug.\n",
    "\n",
    "# Overhead: Multithreading adds overhead to an application, as it requires additional memory and CPU resources to manage\n",
    "# multiple threads.\n",
    "\n",
    "# Non-deterministic behavior: Multithreading can lead to non-deterministic behavior, as the order in which threads execute\n",
    "# is not predictable.\n",
    "\n",
    "# Platform dependence: Multithreading is dependent on the platform and operating system on which the application is running. \n",
    "# This can make it difficult to write portable multithreaded code."
   ]
  },
  {
   "cell_type": "code",
   "execution_count": null,
   "metadata": {},
   "outputs": [],
   "source": [
    "# # Q6.Deadlocks and race conditions are two common problems that can occur when writing multithreaded programs. Here's an explanation of both:\n",
    "\n",
    "# Deadlocks:\n",
    "# A deadlock is a situation where two or more threads are blocked waiting for each other to release a resource, preventing \n",
    "# any of them from making progress. This can happen when multiple threads need to acquire multiple resources and hold them \n",
    "# for a certain amount of time. Deadlocks can cause the program to hang, and it can be difficult to detect and resolve them.\n",
    "\n",
    "# For example, if thread A holds resource X and is waiting for resource Y, while thread B holds resource Y and is waiting \n",
    "# for resource X, a deadlock occurs. In this case, both threads will be blocked and unable to make progress.\n",
    "\n",
    "# To prevent deadlocks, it's important to use proper synchronization techniques such as locks or semaphores to ensure that\n",
    "# resources are acquired and released in a proper order. It's also important to avoid holding locks for an extended period of\n",
    "# time, and to release them as soon as possible.\n",
    "\n",
    "# Race conditions:\n",
    "# A race condition is a situation where the behavior of a program depends on the order in which multiple threads execute.\n",
    "# This can happen when multiple threads access a shared resource simultaneously without proper synchronization, resulting\n",
    "# in unpredictable behavior.\n",
    "\n",
    "# For example, if two threads simultaneously try to increment a shared counter, it's possible that both threads read the \n",
    "# same value, and both write back the same incremented value, resulting in the counter being incremented only once instead \n",
    "# of twice. This is an example of a race condition.\n",
    "\n",
    "# To prevent race conditions, it's important to use proper synchronization techniques such as locks or semaphores to ensure \n",
    "# that shared resources are accessed by only one thread at a time. It's also important to avoid using non-atomic operations \n",
    "# on shared resources, and to use atomic operations or synchronization mechanisms to ensure that changes to shared resources\n",
    "# are properly coordinated."
   ]
  }
 ],
 "metadata": {
  "kernelspec": {
   "display_name": "Python 3",
   "language": "python",
   "name": "python3"
  },
  "language_info": {
   "codemirror_mode": {
    "name": "ipython",
    "version": 3
   },
   "file_extension": ".py",
   "mimetype": "text/x-python",
   "name": "python",
   "nbconvert_exporter": "python",
   "pygments_lexer": "ipython3",
   "version": "3.11.0"
  },
  "orig_nbformat": 4,
  "vscode": {
   "interpreter": {
    "hash": "c261aea317cc0286b3b3261fbba9abdec21eaa57589985bb7a274bf54d6cc0a7"
   }
  }
 },
 "nbformat": 4,
 "nbformat_minor": 2
}
